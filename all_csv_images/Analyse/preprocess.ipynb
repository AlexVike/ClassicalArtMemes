{
 "cells": [
  {
   "cell_type": "code",
   "execution_count": 5,
   "metadata": {},
   "outputs": [],
   "source": [
    "import pandas as pd\n",
    "import nltk\n",
    "from nltk.tokenize import word_tokenize\n",
    "import re\n",
    "\n",
    "# Read the CSV file into a DataFrame\n",
    "df = pd.read_csv('../filtered_file_ocr.csv')\n",
    "\n",
    "\n",
    "df['ocr_text'].fillna(df['title'], inplace=True)\n",
    "\n",
    "\n",
    "# Remove non-latin letters\n",
    "df['ocr_text'] = df['ocr_text'].apply(lambda x: re.sub(r'[^a-zA-Z\\s]', '', x) if isinstance(x, str) else '')\n",
    "\n",
    "# Convert the text to lowercase\n",
    "df['ocr_text'] = df['ocr_text'].str.lower()\n",
    "\n",
    "# Remove punctuation\n",
    "df['ocr_text'] = df['ocr_text'].apply(lambda x: re.sub(r'[^\\w\\s]', '', x))\n",
    "\n",
    "# Tokenize the text\n",
    "df['ocr_text'] = df['ocr_text'].apply(word_tokenize)\n",
    "\n",
    "# Remove Stop words\n",
    "stop_words = set(nltk.corpus.stopwords.words('english'))\n",
    "df['ocr_text'] = df['ocr_text'].apply(lambda x: [item for item in x if item not in stop_words])\n",
    "\n",
    "\n",
    "\n"
   ]
  },
  {
   "cell_type": "code",
   "execution_count": 4,
   "metadata": {},
   "outputs": [],
   "source": [
    "df.to_csv('preprocessed.csv', index=False)"
   ]
  }
 ],
 "metadata": {
  "kernelspec": {
   "display_name": "Memes",
   "language": "python",
   "name": "python3"
  },
  "language_info": {
   "codemirror_mode": {
    "name": "ipython",
    "version": 3
   },
   "file_extension": ".py",
   "mimetype": "text/x-python",
   "name": "python",
   "nbconvert_exporter": "python",
   "pygments_lexer": "ipython3",
   "version": "3.9.15"
  },
  "orig_nbformat": 4,
  "vscode": {
   "interpreter": {
    "hash": "c69359b6ae85b7b355cd7fe651d90166f8bb81f2b92a82eabc2dd531a72e3ba8"
   }
  }
 },
 "nbformat": 4,
 "nbformat_minor": 2
}
