{
 "cells": [
  {
   "cell_type": "code",
   "execution_count": 9,
   "metadata": {},
   "outputs": [
    {
     "ename": "NameError",
     "evalue": "name 'word' is not defined",
     "output_type": "error",
     "traceback": [
      "\u001b[1;31m---------------------------------------------------------------------------\u001b[0m",
      "\u001b[1;31mNameError\u001b[0m                                 Traceback (most recent call last)",
      "Cell \u001b[1;32mIn[9], line 12\u001b[0m\n\u001b[0;32m      6\u001b[0m df \u001b[39m=\u001b[39m pd\u001b[39m.\u001b[39mread_csv(\u001b[39m'\u001b[39m\u001b[39mpreprocessed.csv\u001b[39m\u001b[39m'\u001b[39m)\n\u001b[0;32m      7\u001b[0m \u001b[39m# df = pd.read_csv('../filtered_file_ocr.csv')\u001b[39;00m\n\u001b[0;32m      8\u001b[0m \u001b[39m# df['ocr_text'].fillna(df['title'], inplace=True)\u001b[39;00m\n\u001b[0;32m      9\u001b[0m \n\u001b[0;32m     10\u001b[0m \u001b[39m# print(df.head())\u001b[39;00m\n\u001b[0;32m     11\u001b[0m \u001b[39m# Flatten the list of tokenized words into a single list\u001b[39;00m\n\u001b[1;32m---> 12\u001b[0m all_words \u001b[39m=\u001b[39m [word \u001b[39mfor\u001b[39;00m sublist \u001b[39min\u001b[39;00m df[\u001b[39m'\u001b[39m\u001b[39mocr_text\u001b[39m\u001b[39m'\u001b[39m]]\n\u001b[0;32m     14\u001b[0m \u001b[39mprint\u001b[39m(all_words)\n",
      "Cell \u001b[1;32mIn[9], line 12\u001b[0m, in \u001b[0;36m<listcomp>\u001b[1;34m(.0)\u001b[0m\n\u001b[0;32m      6\u001b[0m df \u001b[39m=\u001b[39m pd\u001b[39m.\u001b[39mread_csv(\u001b[39m'\u001b[39m\u001b[39mpreprocessed.csv\u001b[39m\u001b[39m'\u001b[39m)\n\u001b[0;32m      7\u001b[0m \u001b[39m# df = pd.read_csv('../filtered_file_ocr.csv')\u001b[39;00m\n\u001b[0;32m      8\u001b[0m \u001b[39m# df['ocr_text'].fillna(df['title'], inplace=True)\u001b[39;00m\n\u001b[0;32m      9\u001b[0m \n\u001b[0;32m     10\u001b[0m \u001b[39m# print(df.head())\u001b[39;00m\n\u001b[0;32m     11\u001b[0m \u001b[39m# Flatten the list of tokenized words into a single list\u001b[39;00m\n\u001b[1;32m---> 12\u001b[0m all_words \u001b[39m=\u001b[39m [word \u001b[39mfor\u001b[39;00m sublist \u001b[39min\u001b[39;00m df[\u001b[39m'\u001b[39m\u001b[39mocr_text\u001b[39m\u001b[39m'\u001b[39m]]\n\u001b[0;32m     14\u001b[0m \u001b[39mprint\u001b[39m(all_words)\n",
      "\u001b[1;31mNameError\u001b[0m: name 'word' is not defined"
     ]
    }
   ],
   "source": [
    "import nltk\n",
    "from nltk.tokenize import word_tokenize\n",
    "from nltk.util import ngrams\n",
    "import pandas as pd\n",
    "\n",
    "df = pd.read_csv('preprocessed.csv')\n",
    "# df = pd.read_csv('../filtered_file_ocr.csv')\n",
    "# df['ocr_text'].fillna(df['title'], inplace=True)\n",
    "\n",
    "# print(df.head())\n",
    "# Flatten the list of tokenized words into a single list\n",
    "all_words = [word for sublist in df['ocr_text'] for word in sublist]\n",
    "\n",
    "print(all_words)\n",
    "# # Find the most common words using the nltk.FreqDist function\n",
    "# fdist = nltk.FreqDist(all_words)\n",
    "# mfw = fdist.most_common(10)\n",
    "# print(\"Most common words: \", mfw)\n",
    "\n",
    "# # Find the most common bigrams using the nltk.ngrams() function\n",
    "# bigrams = ngrams(all_words, 2)\n",
    "# bigram_fdist = nltk.FreqDist(bigrams)\n",
    "# mfb = bigram_fdist.most_common(10)\n",
    "# print(\"Most common bigrams: \", mfb)\n",
    "\n",
    "# # Find the most common trigrams using the nltk.ngrams() function\n",
    "# trigrams = ngrams(all_words, 3)\n",
    "# trigram_fdist = nltk.FreqDist(trigrams)\n",
    "# mft = trigram_fdist.most_common(10)\n",
    "# print(\"Most common trigrams: \", mft)\n"
   ]
  }
 ],
 "metadata": {
  "kernelspec": {
   "display_name": "Memes",
   "language": "python",
   "name": "python3"
  },
  "language_info": {
   "codemirror_mode": {
    "name": "ipython",
    "version": 3
   },
   "file_extension": ".py",
   "mimetype": "text/x-python",
   "name": "python",
   "nbconvert_exporter": "python",
   "pygments_lexer": "ipython3",
   "version": "3.9.15"
  },
  "orig_nbformat": 4,
  "vscode": {
   "interpreter": {
    "hash": "c69359b6ae85b7b355cd7fe651d90166f8bb81f2b92a82eabc2dd531a72e3ba8"
   }
  }
 },
 "nbformat": 4,
 "nbformat_minor": 2
}
