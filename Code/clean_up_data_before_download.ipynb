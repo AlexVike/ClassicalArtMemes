{
 "cells": [
  {
   "attachments": {},
   "cell_type": "markdown",
   "metadata": {},
   "source": [
    "Alle Posts die nicht mit png oder jpg enden werden gelöscht. Alle Duplikate werden gelöscht."
   ]
  },
  {
   "attachments": {},
   "cell_type": "markdown",
   "metadata": {},
   "source": [
    "Die Daten werden in filtered_file_no_images_no_duplicates.csv gespeichert."
   ]
  },
  {
   "cell_type": "code",
   "execution_count": null,
   "metadata": {},
   "outputs": [],
   "source": [
    "import pandas as pd\n",
    "\n",
    "df = pd.read_csv('../all_raw_csv/trippinthroughtime_data_all_years.csv')\n",
    "mask = (df['url'].str.endswith('.png') | df['url'].str.endswith('.jpg'))\n",
    "df = df[mask]\n",
    "\n",
    "df.drop_duplicates(subset=['url'], inplace=True)\n",
    "\n",
    "df.to_csv('../all_raw_csv/filtered_file_no_images_no_duplicates.csv', index=False)"
   ]
  }
 ],
 "metadata": {
  "language_info": {
   "name": "python"
  },
  "orig_nbformat": 4
 },
 "nbformat": 4,
 "nbformat_minor": 2
}
