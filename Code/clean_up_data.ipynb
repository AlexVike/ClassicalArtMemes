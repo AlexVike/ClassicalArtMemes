{
 "cells": [
  {
   "cell_type": "code",
   "execution_count": 1,
   "metadata": {},
   "outputs": [],
   "source": [
    "import pandas as pd\n",
    "import requests\n",
    "\n",
    "\n",
    "\n",
    "# read in the csv file\n",
    "df = pd.read_csv('../all_raw_csv/trippinthroughtime_data_all_years.csv')\n",
    "\n",
    "# create a boolean mask to filter out rows where the url does not end in \".png\" or \".jpg\" \n",
    "# or does not match the format \"https://imgur.com/[alphanumeric characters]\"\n",
    "mask = (df['url'].str.endswith('.png') | df['url'].str.endswith('.jpg'))\n",
    "\n",
    "# use the mask to filter the dataframe\n",
    "df = df[mask]\n",
    "\n",
    "df.drop_duplicates(subset=['url'], inplace=True)\n",
    "\n",
    "\n",
    "\n",
    "\n",
    "# save the filtered dataframe to a new csv file\n",
    "df.to_csv('../all_raw_csv/filtered_file_no_images_no_duplicates.csv', index=False)\n"
   ]
  },
  {
   "cell_type": "code",
   "execution_count": 5,
   "metadata": {},
   "outputs": [],
   "source": [
    "df = pd.read_csv('../all_raw_csv/trippinthroughtime_data_all_years.csv')\n",
    "df_filtered = pd.read_csv('../all_raw_csv/filtered_file_no_images.csv')\n",
    "df_filtered_no_duplicates = pd.read_csv('../all_raw_csv/filtered_file_no_images_no_duplicates.csv')\n",
    "df_all_images = pd.read_csv('../all_csv_images/all_data_all_images.csv')\n"
   ]
  },
  {
   "cell_type": "code",
   "execution_count": 6,
   "metadata": {},
   "outputs": [
    {
     "name": "stdout",
     "output_type": "stream",
     "text": [
      "(55452, 15)\n",
      "(41375, 15)\n",
      "(38707, 15)\n",
      "(30693, 16)\n"
     ]
    }
   ],
   "source": [
    "print(df.shape)\n",
    "print(df_filtered.shape)\n",
    "print(df_filtered_no_duplicates.shape)\n",
    "print(df_all_images.shape)\n"
   ]
  },
  {
   "cell_type": "code",
   "execution_count": 4,
   "metadata": {},
   "outputs": [
    {
     "name": "stdout",
     "output_type": "stream",
     "text": [
      "2668\n"
     ]
    }
   ],
   "source": [
    "x = df_filtered.shape[0] - df_filtered_no_duplicates.shape[0]\n",
    "print(x)"
   ]
  },
  {
   "cell_type": "code",
   "execution_count": 37,
   "metadata": {},
   "outputs": [],
   "source": [
    "import pandas as pd\n",
    "import os\n",
    "\n",
    "# Read in CSV file\n",
    "df = pd.read_csv(\"../all_csv_images/ocr_google_vision.csv\")\n",
    "\n",
    "\n",
    "# Filter out rows with specified text in \"ocr_text\" column\n",
    "df = df[df[\"ocr_text\"] != \"The image\\nyou are\\nrequesting does not exist\\nor is no longer available.\\nimgur.com\"]\n",
    "\n",
    "\n",
    "df_deleted = pd.read_csv(\"../all_csv_images/ocr_google_vision.csv\")\n",
    "df_deleted = df_deleted[df_deleted[\"ocr_text\"] == \"The image\\nyou are\\nrequesting does not exist\\nor is no longer available.\\nimgur.com\"]\n",
    "# Delete images using \"relative_path\" column as file path\n",
    "for index, row in df_deleted.iterrows():\n",
    "    os.remove(row[\"relative_path\"])\n",
    "\n",
    "# Write new dataframe with filtered rows to a new csv\n",
    "df.to_csv(\"../all_csv_images/filtered_file_ocr.csv\",index=False)\n"
   ]
  },
  {
   "cell_type": "code",
   "execution_count": 38,
   "metadata": {},
   "outputs": [
    {
     "name": "stdout",
     "output_type": "stream",
     "text": [
      "(27347, 17)\n",
      "(27293, 17)\n"
     ]
    }
   ],
   "source": [
    "from PIL import Image\n",
    "import os\n",
    "\n",
    "folder = \"../images\"\n",
    "csv_file = '../all_csv_images/filtered_file_ocr.csv'\n",
    "\n",
    "# Read the CSV file into a DataFrame\n",
    "df = pd.read_csv(csv_file)\n",
    "print(df.shape)\n",
    "\n",
    "# Initialize a list to store the file names that can't be opened\n",
    "bad_files = []\n",
    "\n",
    "# Iterate through the file names in the 'file_name' column\n",
    "for file_name in df['file_name']:\n",
    "    try:\n",
    "        with Image.open(os.path.join(folder, file_name)) as im:\n",
    "            pass\n",
    "    except IOError:\n",
    "        bad_files.append(file_name)\n",
    "        # remove the image from the folder\n",
    "        os.remove(os.path.join(folder, file_name))\n",
    "\n",
    "# Remove the rows corresponding to the bad files\n",
    "df = df[~df['file_name'].isin(bad_files)]\n",
    "\n",
    "# Save the updated DataFrame to the CSV file\n",
    "df.to_csv(csv_file, index=False)\n",
    "print(df.shape)"
   ]
  },
  {
   "cell_type": "code",
   "execution_count": 39,
   "metadata": {},
   "outputs": [
    {
     "name": "stdout",
     "output_type": "stream",
     "text": [
      "Number of empty ocr_text: 1032\n"
     ]
    }
   ],
   "source": [
    "# Count the number of empty 'ocr_text' values\n",
    "empty_ocr_text_count = df['ocr_text'].isnull().sum()\n",
    "\n",
    "# Print the number of empty 'ocr_text' values\n",
    "print(f'Number of empty ocr_text: {empty_ocr_text_count}')"
   ]
  },
  {
   "cell_type": "code",
   "execution_count": 45,
   "metadata": {},
   "outputs": [],
   "source": [
    "df = pd.read_csv('../all_csv_images/filtered_file_ocr.csv')"
   ]
  },
  {
   "cell_type": "code",
   "execution_count": 46,
   "metadata": {},
   "outputs": [
    {
     "data": {
      "text/plain": [
       "(27293, 17)"
      ]
     },
     "execution_count": 46,
     "metadata": {},
     "output_type": "execute_result"
    }
   ],
   "source": [
    "df.shape"
   ]
  },
  {
   "cell_type": "code",
   "execution_count": 47,
   "metadata": {},
   "outputs": [],
   "source": [
    "df['ocr_text'].fillna(df['title'], inplace=True)"
   ]
  },
  {
   "cell_type": "code",
   "execution_count": 48,
   "metadata": {},
   "outputs": [],
   "source": [
    "duplicates = df[df.duplicated(['ocr_text'])]"
   ]
  },
  {
   "cell_type": "code",
   "execution_count": 49,
   "metadata": {},
   "outputs": [
    {
     "data": {
      "text/plain": [
       "(3918, 17)"
      ]
     },
     "execution_count": 49,
     "metadata": {},
     "output_type": "execute_result"
    }
   ],
   "source": [
    "duplicates.shape"
   ]
  },
  {
   "cell_type": "code",
   "execution_count": 50,
   "metadata": {},
   "outputs": [],
   "source": [
    "df.drop_duplicates(subset=['ocr_text'],inplace=True)"
   ]
  },
  {
   "cell_type": "code",
   "execution_count": 51,
   "metadata": {},
   "outputs": [
    {
     "data": {
      "text/plain": [
       "(23375, 17)"
      ]
     },
     "execution_count": 51,
     "metadata": {},
     "output_type": "execute_result"
    }
   ],
   "source": [
    "df.shape"
   ]
  },
  {
   "cell_type": "code",
   "execution_count": 52,
   "metadata": {},
   "outputs": [],
   "source": [
    "for index, row in duplicates.iterrows():\n",
    "    os.remove(row[\"relative_path\"])"
   ]
  },
  {
   "cell_type": "code",
   "execution_count": 53,
   "metadata": {},
   "outputs": [],
   "source": [
    "df.to_csv(\"../all_csv_images/filtered_file_ocr_no_duplicates.csv\",index=False)"
   ]
  },
  {
   "cell_type": "code",
   "execution_count": 54,
   "metadata": {},
   "outputs": [
    {
     "data": {
      "text/plain": [
       "(23375, 17)"
      ]
     },
     "execution_count": 54,
     "metadata": {},
     "output_type": "execute_result"
    }
   ],
   "source": [
    "df = pd.read_csv('../all_csv_images/filtered_file_ocr_no_duplicates.csv')\n",
    "df.shape"
   ]
  }
 ],
 "metadata": {
  "kernelspec": {
   "display_name": "Memes",
   "language": "python",
   "name": "python3"
  },
  "language_info": {
   "codemirror_mode": {
    "name": "ipython",
    "version": 3
   },
   "file_extension": ".py",
   "mimetype": "text/x-python",
   "name": "python",
   "nbconvert_exporter": "python",
   "pygments_lexer": "ipython3",
   "version": "3.9.15"
  },
  "orig_nbformat": 4,
  "vscode": {
   "interpreter": {
    "hash": "c69359b6ae85b7b355cd7fe651d90166f8bb81f2b92a82eabc2dd531a72e3ba8"
   }
  }
 },
 "nbformat": 4,
 "nbformat_minor": 2
}
