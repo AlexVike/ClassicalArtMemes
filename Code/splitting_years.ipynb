{
 "cells": [
  {
   "attachments": {},
   "cell_type": "markdown",
   "metadata": {},
   "source": [
    "Der Datensatz wird in die Jahre 2015 bis 2022 aufgeteilt. Dabei wird für jedes Jahr ein eigener Ordner erstellt."
   ]
  },
  {
   "cell_type": "code",
   "execution_count": 2,
   "metadata": {},
   "outputs": [],
   "source": [
    "import pandas as pd\n",
    "import os\n",
    "\n",
    "df = pd.read_csv('../all_csv_images/filtered_file_ocr_no_duplicates.csv')\n",
    "\n",
    "df['created_utc'] = pd.to_datetime(df['created_utc'], unit='s')\n",
    "df['year'] = df['created_utc'].dt.year\n",
    "\n",
    "grouped = df.groupby('year')\n",
    "\n",
    "for year, data in grouped:\n",
    "\n",
    "    os.makedirs(f'../{year}', exist_ok=True)\n",
    "    data.to_csv(f'../{year}/{year}.csv', index=False)\n"
   ]
  }
 ],
 "metadata": {
  "kernelspec": {
   "display_name": "Memes",
   "language": "python",
   "name": "python3"
  },
  "language_info": {
   "codemirror_mode": {
    "name": "ipython",
    "version": 3
   },
   "file_extension": ".py",
   "mimetype": "text/x-python",
   "name": "python",
   "nbconvert_exporter": "python",
   "pygments_lexer": "ipython3",
   "version": "3.9.15"
  },
  "orig_nbformat": 4,
  "vscode": {
   "interpreter": {
    "hash": "c69359b6ae85b7b355cd7fe651d90166f8bb81f2b92a82eabc2dd531a72e3ba8"
   }
  }
 },
 "nbformat": 4,
 "nbformat_minor": 2
}
