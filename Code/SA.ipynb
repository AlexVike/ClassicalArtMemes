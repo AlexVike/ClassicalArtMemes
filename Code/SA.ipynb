{
 "cells": [
  {
   "cell_type": "code",
   "execution_count": 2,
   "metadata": {},
   "outputs": [],
   "source": [
    "import pandas as pd\n",
    "import cv2\n",
    "from sklearn.metrics.pairwise import cosine_similarity\n",
    "from tqdm import tqdm\n"
   ]
  },
  {
   "cell_type": "code",
   "execution_count": 3,
   "metadata": {},
   "outputs": [],
   "source": [
    "df = pd.read_csv(\"../all_csv_images/filtered_file_ocr_no_duplicates.csv\")\n"
   ]
  },
  {
   "cell_type": "code",
   "execution_count": 4,
   "metadata": {},
   "outputs": [
    {
     "ename": "KeyboardInterrupt",
     "evalue": "",
     "output_type": "error",
     "traceback": [
      "\u001b[1;31m---------------------------------------------------------------------------\u001b[0m",
      "\u001b[1;31mKeyboardInterrupt\u001b[0m                         Traceback (most recent call last)",
      "Cell \u001b[1;32mIn[4], line 14\u001b[0m\n\u001b[0;32m     11\u001b[0m path \u001b[39m=\u001b[39m row[\u001b[39m'\u001b[39m\u001b[39mrelative_path\u001b[39m\u001b[39m'\u001b[39m]\n\u001b[0;32m     13\u001b[0m \u001b[39m# load the image using cv2.imread\u001b[39;00m\n\u001b[1;32m---> 14\u001b[0m piece \u001b[39m=\u001b[39m cv2\u001b[39m.\u001b[39;49mimread(\u001b[39mf\u001b[39;49m\u001b[39m\"\u001b[39;49m\u001b[39m{\u001b[39;49;00mpath\u001b[39m}\u001b[39;49;00m\u001b[39m\"\u001b[39;49m)\n\u001b[0;32m     16\u001b[0m \u001b[39m# check if the image is not empty\u001b[39;00m\n\u001b[0;32m     17\u001b[0m \u001b[39mif\u001b[39;00m piece \u001b[39mis\u001b[39;00m \u001b[39mnot\u001b[39;00m \u001b[39mNone\u001b[39;00m:\n\u001b[0;32m     18\u001b[0m     \u001b[39m# convert the image to RGB color space\u001b[39;00m\n",
      "\u001b[1;31mKeyboardInterrupt\u001b[0m: "
     ]
    }
   ],
   "source": [
    "# load the csv file\n",
    "df = pd.read_csv(\"../all_csv_images/WikiArt_images.csv\")\n",
    "\n",
    "# create an empty list to hold the images\n",
    "art = []\n",
    "\n",
    "# iterate through each row in the csv file\n",
    "for index, row in df.iterrows():\n",
    "    # get the relative path of the image\n",
    "    path = row['relative_path']\n",
    "\n",
    "    # load the image using cv2.imread\n",
    "    piece = cv2.imread(f\"{path}\")\n",
    "\n",
    "    # check if the image is not empty\n",
    "    if piece is not None:\n",
    "        # convert the image to RGB color space\n",
    "        piece = cv2.cvtColor(piece, cv2.COLOR_BGR2RGB)\n",
    "\n",
    "        # append the image to the art list\n",
    "        art.append(piece)\n",
    "    else:\n",
    "        print(f\"Empty image at {path}\")\n"
   ]
  },
  {
   "cell_type": "code",
   "execution_count": null,
   "metadata": {},
   "outputs": [
    {
     "ename": "KeyboardInterrupt",
     "evalue": "",
     "output_type": "error",
     "traceback": [
      "\u001b[1;31m---------------------------------------------------------------------------\u001b[0m",
      "\u001b[1;31mKeyboardInterrupt\u001b[0m                         Traceback (most recent call last)",
      "Cell \u001b[1;32mIn[18], line 9\u001b[0m\n\u001b[0;32m      6\u001b[0m         features\u001b[39m.\u001b[39mappend(fd)\n\u001b[0;32m      7\u001b[0m     \u001b[39mreturn\u001b[39;00m features\n\u001b[1;32m----> 9\u001b[0m art_features \u001b[39m=\u001b[39m extract_features(art)\n",
      "Cell \u001b[1;32mIn[18], line 5\u001b[0m, in \u001b[0;36mextract_features\u001b[1;34m(images)\u001b[0m\n\u001b[0;32m      3\u001b[0m features \u001b[39m=\u001b[39m []\n\u001b[0;32m      4\u001b[0m \u001b[39mfor\u001b[39;00m image \u001b[39min\u001b[39;00m images:\n\u001b[1;32m----> 5\u001b[0m     fd \u001b[39m=\u001b[39m hog\u001b[39m.\u001b[39;49mcompute(image)\n\u001b[0;32m      6\u001b[0m     features\u001b[39m.\u001b[39mappend(fd)\n\u001b[0;32m      7\u001b[0m \u001b[39mreturn\u001b[39;00m features\n",
      "\u001b[1;31mKeyboardInterrupt\u001b[0m: "
     ]
    }
   ],
   "source": [
    "def extract_features(images):\n",
    "    hog = cv2.HOGDescriptor()\n",
    "    features = []\n",
    "    for image in images:\n",
    "        fd = hog.compute(image)\n",
    "        features.append(fd)\n",
    "    return features\n",
    "\n",
    "art_features = extract_features(art)\n"
   ]
  },
  {
   "cell_type": "code",
   "execution_count": null,
   "metadata": {},
   "outputs": [],
   "source": [
    "results = {}\n",
    "for i, row in df.iterrows():\n",
    "    meme = cv2.imread(row[\"relative_path\"])\n",
    "    meme = cv2.cvtColor(meme, cv2.COLOR_BGR2RGB)\n",
    "    meme_features = extract_features([meme])\n",
    "    similarity = cosine_similarity(meme_features, art_features)\n",
    "    match_index = similarity.argmax(axis=1)\n",
    "    results[row[\"relative_path\"]] = \"art\" + str(match_index[0] + 1)\n",
    "\n"
   ]
  },
  {
   "cell_type": "code",
   "execution_count": null,
   "metadata": {},
   "outputs": [],
   "source": [
    "df[\"matched_art\"] = df[\"relative_path\"].map(results)\n"
   ]
  },
  {
   "cell_type": "code",
   "execution_count": null,
   "metadata": {},
   "outputs": [],
   "source": [
    "df.to_csv(\"filtered_file_ocr_no_duplicates_with_matching.csv\", index=False)\n"
   ]
  },
  {
   "cell_type": "code",
   "execution_count": 4,
   "metadata": {},
   "outputs": [
    {
     "name": "stderr",
     "output_type": "stream",
     "text": [
      "  0%|          | 13/4675 [00:02<16:55,  4.59it/s]"
     ]
    },
    {
     "name": "stdout",
     "output_type": "stream",
     "text": [
      "Empty image at ../images/EDEZ6.jpg\n",
      "Empty image at ../images/EDEZ6.jpg\n"
     ]
    },
    {
     "name": "stderr",
     "output_type": "stream",
     "text": [
      " 75%|███████▌  | 3515/4675 [13:14<02:47,  6.93it/s]"
     ]
    },
    {
     "name": "stdout",
     "output_type": "stream",
     "text": [
      "Empty image at ../images/5isQukU.jpg\n",
      "Empty image at ../images/5isQukU.jpg\n"
     ]
    },
    {
     "name": "stderr",
     "output_type": "stream",
     "text": [
      " 76%|███████▌  | 3537/4675 [13:17<03:38,  5.20it/s]"
     ]
    },
    {
     "name": "stdout",
     "output_type": "stream",
     "text": [
      "Empty image at ../images/tkX4Zjh.jpg\n",
      "Empty image at ../images/iWMFoLF.jpg\n",
      "Empty image at ../images/tkX4Zjh.jpg\n",
      "Empty image at ../images/iWMFoLF.jpg\n"
     ]
    },
    {
     "name": "stderr",
     "output_type": "stream",
     "text": [
      " 79%|███████▉  | 3697/4675 [13:48<01:54,  8.56it/s]"
     ]
    },
    {
     "name": "stdout",
     "output_type": "stream",
     "text": [
      "Empty image at ../images/smgbZ91.jpg\n",
      "Empty image at ../images/smgbZ91.jpg\n"
     ]
    },
    {
     "name": "stderr",
     "output_type": "stream",
     "text": [
      " 91%|█████████ | 4256/4675 [15:40<01:34,  4.43it/s]"
     ]
    },
    {
     "name": "stdout",
     "output_type": "stream",
     "text": [
      "Empty image at ../images/Persée%2Btuant%2Ble%2Bdragon%2B-%2Bfélix%2BVallotton%2B2.png\n",
      "Empty image at ../images/Persée%2Btuant%2Ble%2Bdragon%2B-%2Bfélix%2BVallotton%2B2.png\n"
     ]
    },
    {
     "name": "stderr",
     "output_type": "stream",
     "text": [
      " 97%|█████████▋| 4554/4675 [16:42<00:19,  6.26it/s]"
     ]
    },
    {
     "name": "stdout",
     "output_type": "stream",
     "text": [
      "Empty image at ../images/DokqfS0.jpg\n",
      "Empty image at ../images/DokqfS0.jpg\n"
     ]
    },
    {
     "name": "stderr",
     "output_type": "stream",
     "text": [
      "100%|█████████▉| 4652/4675 [16:58<00:02,  7.74it/s]"
     ]
    },
    {
     "name": "stdout",
     "output_type": "stream",
     "text": [
      "Empty image at ../images/jdI5Wo3.jpg\n",
      "Empty image at ../images/jdI5Wo3.jpg\n"
     ]
    },
    {
     "name": "stderr",
     "output_type": "stream",
     "text": [
      "100%|██████████| 4675/4675 [17:04<00:00,  4.56it/s]\n"
     ]
    }
   ],
   "source": [
    "import pandas as pd\n",
    "import cv2\n",
    "import numpy as np\n",
    "from sklearn.metrics.pairwise import cosine_similarity\n",
    "from tqdm import tqdm\n",
    "\n",
    "BATCH_SIZE = 5\n",
    "\n",
    "df = pd.read_csv(\"../all_csv_images/filtered_file_ocr_no_duplicates.csv\")\n",
    "\n",
    "image_paths = []\n",
    "\n",
    "for index, row in df.iterrows():\n",
    "    path = row['relative_path']\n",
    "    \n",
    "    image_paths.append(path)\n",
    "\n",
    "results = {}\n",
    "\n",
    "win_size = (64, 64)\n",
    "block_size = (16, 16)\n",
    "block_stride = (8, 8)\n",
    "cell_size = (8, 8)\n",
    "nbins = 9\n",
    "\n",
    "hog = cv2.HOGDescriptor(win_size, block_size, block_stride, cell_size, nbins)\n",
    "\n",
    "\n",
    "for i in tqdm(range(0, len(image_paths), BATCH_SIZE)):\n",
    "    batch_paths = image_paths[i:i+BATCH_SIZE]\n",
    "    batch_images = []\n",
    "    for path in batch_paths:\n",
    "        image = cv2.imread(path)\n",
    "        if image is not None:\n",
    "            image = cv2.cvtColor(image, cv2.COLOR_BGR2RGB)\n",
    "            image = cv2.resize(image, (64, 64))\n",
    "            batch_images.append(image)\n",
    "        else:\n",
    "            print(f\"Empty image at {path}\")\n",
    "\n",
    "\n",
    "    batch_features = np.zeros((len(batch_images), hog.getDescriptorSize()), dtype=np.float32)\n",
    "    for j, image in enumerate(batch_images):\n",
    "        if image is not None and image.shape == (64, 64, 3):\n",
    "            fd = hog.compute(image)\n",
    "            batch_features[j, :] = fd.T\n",
    "        else:\n",
    "            print(f\"Invalid image at index {j} in batch\")\n",
    "\n",
    "    \n",
    "\n",
    "    for j, row in df.iloc[i:i+BATCH_SIZE].iterrows():\n",
    "        meme_path = row[\"relative_path\"]\n",
    "        meme_image = cv2.imread(meme_path)\n",
    "        if meme_image is not None:\n",
    "            meme_image = cv2.cvtColor(meme_image, cv2.COLOR_BGR2RGB)\n",
    "            meme_image = cv2.resize(meme_image, (64, 64))\n",
    "        else:\n",
    "            print(f\"Empty image at {meme_path}\")\n",
    "            continue\n",
    "\n",
    "        meme_features = hog.compute(meme_image).T.reshape(1, -1)\n",
    "        similarity = cosine_similarity(meme_features, batch_features)\n",
    "        match_index = similarity.argmax(axis=1)\n",
    "        results[meme_path] = \"art\" + str(match_index[0] + i + 1)\n",
    "\n",
    "\n",
    "df[\"matched_art\"] = df[\"relative_path\"].map(results)\n",
    "\n",
    "\n",
    "df.to_csv(\"filtered_file_ocr_no_duplicates_with_matching.csv\", index=False)\n"
   ]
  },
  {
   "cell_type": "code",
   "execution_count": 49,
   "metadata": {},
   "outputs": [
    {
     "name": "stdout",
     "output_type": "stream",
     "text": [
      "Similarity using ORB is:  0.216\n",
      "Similarity using SSIM is:  0.2397903110957828\n"
     ]
    }
   ],
   "source": [
    "# https://youtu.be/16s3Pi1InPU\n",
    "\"\"\"\n",
    "Comparing images using ORB/SIFT feature detectors\n",
    "and structural similarity index. \n",
    "\n",
    "@author: Sreenivas Bhattiprolu\n",
    "\"\"\"\n",
    "\n",
    "\n",
    "from skimage.metrics import structural_similarity\n",
    "import cv2\n",
    "\n",
    "\n",
    "def orb_sim(img1, img2):\n",
    "\n",
    "  orb = cv2.ORB_create()\n",
    "\n",
    "\n",
    "  kp_a, desc_a = orb.detectAndCompute(img1, None)\n",
    "  kp_b, desc_b = orb.detectAndCompute(img2, None)\n",
    "\n",
    "\n",
    "  bf = cv2.BFMatcher(cv2.NORM_HAMMING, crossCheck=True)\n",
    "\n",
    "  matches = bf.match(desc_a, desc_b)\n",
    "\n",
    "  similar_regions = [i for i in matches if i.distance < 40]  \n",
    "  if len(matches) == 0:\n",
    "    return 0\n",
    "  return len(similar_regions) / len(matches)\n",
    "\n",
    "\n",
    "\n",
    "def structural_sim(img1, img2):\n",
    "\n",
    "  sim, diff = structural_similarity(img1, img2, full=True)\n",
    "  return sim\n",
    "\n",
    "img_test1 = cv2.imread('../test_images/Test5.jpg', 0)\n",
    "img_test2 = cv2.imread('../test_images/Test6.png', 0)\n",
    "\n",
    "img00 = cv2.imread('../images_art/5a02d7d6edc2c9410844bbf3.jpg', 0)\n",
    "\n",
    "img01 = cv2.imread('../images_art/5a02d7d6edc2c9410844bbf3.jpg', 0)\n",
    "\n",
    "img1 = cv2.imread('../images_art/5a02d7d6edc2c9410844bbf3.jpg', 0)  \n",
    "img2 = cv2.imread('../images_art/5a4cf41dedc2c900bcea5fc9.jpg', 0)  \n",
    "img3 = cv2.imread('../images_art/5a4cf42aedc2c900bcea8fbb.jpg', 0)  \n",
    "img4 = cv2.imread('../images_art/5a4cf42cedc2c900bcea968d.jpg', 0)  \n",
    "\n",
    "orb_similarity = orb_sim(img_test1, img_test2)  \n",
    "\n",
    "print(\"Similarity using ORB is: \", orb_similarity)\n",
    "\n",
    "from skimage.transform import resize\n",
    "img5 = resize(img_test2, (img_test1.shape[0], img_test1.shape[1]), anti_aliasing=True, preserve_range=True)\n",
    "\n",
    "ssim = structural_sim(img_test1, img5) \n",
    "print(\"Similarity using SSIM is: \", ssim)"
   ]
  },
  {
   "cell_type": "code",
   "execution_count": 57,
   "metadata": {},
   "outputs": [
    {
     "name": "stderr",
     "output_type": "stream",
     "text": [
      "c:\\Users\\Alexa\\anaconda3\\envs\\Memes\\lib\\site-packages\\skimage\\_shared\\utils.py:348: UserWarning: Inputs have mismatched dtype.  Setting data_range based on im1.dtype.\n",
      "  return func(*args, **kwargs)\n"
     ]
    },
    {
     "name": "stdout",
     "output_type": "stream",
     "text": [
      "Error processing 002yholifze81.jpg\n",
      "Error processing 0032kpxx8fn11.png\n",
      "New max score for 006rXbh.jpg: 57726e89edc2cb3880b75d96.jpg\n",
      "Error processing 006rXbh.jpg\n",
      "New max score for 00a14ud32du31.jpg: 57726e38edc2cb3880b6299e.jpg\n",
      "Error processing 00a14ud32du31.jpg\n"
     ]
    }
   ],
   "source": [
    "import os\n",
    "from skimage.metrics import structural_similarity\n",
    "import cv2\n",
    "\n",
    "\n",
    "def orb_sim(img1, img2):\n",
    "\n",
    "    orb = cv2.ORB_create()\n",
    "\n",
    "\n",
    "    kp_a, desc_a = orb.detectAndCompute(img1, None)\n",
    "    kp_b, desc_b = orb.detectAndCompute(img2, None)\n",
    "\n",
    "\n",
    "    bf = cv2.BFMatcher(cv2.NORM_HAMMING, crossCheck=True)\n",
    "\n",
    "\n",
    "    matches = bf.match(desc_a, desc_b)\n",
    "\n",
    "    similar_regions = [i for i in matches if i.distance < 40]\n",
    "    if len(matches) == 0:\n",
    "        return 0\n",
    "    return len(similar_regions) / len(matches)\n",
    "\n",
    "\n",
    "\n",
    "def structural_sim(img1, img2):\n",
    "    sim, diff = structural_similarity(img1, img2, full=True)\n",
    "    return sim\n",
    "\n",
    "folder1 = '../images'\n",
    "folder2 = '../images_art'\n",
    "\n",
    "max_scores = {}  \n",
    "\n",
    "for filename1 in os.listdir(folder1):\n",
    "    try:\n",
    "        img_path1 = os.path.join(folder1, filename1)\n",
    "        img1 = cv2.imread(img_path1, 0)\n",
    "        \n",
    "        max_score = 0  \n",
    "        \n",
    "        for filename2 in os.listdir(folder2):\n",
    "            img_path2 = os.path.join(folder2, filename2)\n",
    "            img2 = cv2.imread(img_path2, 0)\n",
    "\n",
    "            orb_similarity = orb_sim(img1, img2)  \n",
    "\n",
    "\n",
    "            from skimage.transform import resize\n",
    "\n",
    "            img5 = resize(img2, (img1.shape[0], img1.shape[1]), anti_aliasing=True, preserve_range=True)\n",
    "\n",
    "            ssim = structural_sim(img1, img5)  \n",
    "\n",
    "            avg_similarity = (orb_similarity + ssim) / 2\n",
    "            \n",
    "            if avg_similarity > 0.35 and avg_similarity > max_score:\n",
    "                max_score = avg_similarity  \n",
    "                \n",
    "                max_scores[filename1] = (filename2, max_score)\n",
    "                print(f\"New max score for {filename1}: {filename2}\")\n",
    "    except:\n",
    "        print(\"Error processing\", filename1)\n",
    "\n",
    "for filename1, (filename2, max_score) in max_scores.items():\n",
    "    print(f\"Highest match found for {filename1}: {filename2}\")\n",
    "    print(\"Highest similarity score is:\", max_score)\n"
   ]
  }
 ],
 "metadata": {
  "kernelspec": {
   "display_name": "Memes",
   "language": "python",
   "name": "python3"
  },
  "language_info": {
   "codemirror_mode": {
    "name": "ipython",
    "version": 3
   },
   "file_extension": ".py",
   "mimetype": "text/x-python",
   "name": "python",
   "nbconvert_exporter": "python",
   "pygments_lexer": "ipython3",
   "version": "3.9.15"
  },
  "orig_nbformat": 4,
  "vscode": {
   "interpreter": {
    "hash": "c69359b6ae85b7b355cd7fe651d90166f8bb81f2b92a82eabc2dd531a72e3ba8"
   }
  }
 },
 "nbformat": 4,
 "nbformat_minor": 2
}
