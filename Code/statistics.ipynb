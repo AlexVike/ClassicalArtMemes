{
 "cells": [
  {
   "attachments": {},
   "cell_type": "markdown",
   "metadata": {},
   "source": [
    "Für jedes Jahr werden Statistiken erstellt, die in einer Text Datei im jeweiligen Ordner gespeichert werden."
   ]
  },
  {
   "cell_type": "code",
   "execution_count": 2,
   "metadata": {},
   "outputs": [],
   "source": [
    "import pandas as pd\n",
    "\n",
    "\n",
    "df = pd.read_csv('../all_csv_images/filtered_file_ocr_no_duplicates.csv')\n",
    "\n",
    "df['created_utc'] = pd.to_datetime(df['created_utc'], unit='s')\n",
    "df['year'] = df['created_utc'].dt.year\n",
    "\n",
    "\n",
    "for year in range(2015, 2023):\n",
    "    if year in df.year.unique():\n",
    "        data = df[df['year'] == year]\n",
    "        \n",
    "        with open(f'../{year}/statistics_{year}.txt', 'w') as file:\n",
    "            # Score statistics\n",
    "            score_stats = data.score.agg(['mean', 'median', 'std'])\n",
    "            file.write(f'Score statistics:\\n{score_stats}\\n\\n')\n",
    "\n",
    "            # Author statistics\n",
    "            unique_authors = data.author.nunique()\n",
    "            file.write(f'Unique authors: {unique_authors}\\n\\n')\n",
    "\n",
    "            # Total awards statistics\n",
    "            total_awards = data.total_awards_received.sum()\n",
    "            file.write(f'Total awards: {total_awards}\\n\\n')\n",
    "\n",
    "            # Average awards per post statistics\n",
    "            average_awards = data.total_awards_received.mean()\n",
    "            file.write(f'Average awards per post: {average_awards}\\n\\n')\n",
    "\n",
    "            # Total comments statistics\n",
    "            total_comments = data.num_comments.sum()\n",
    "            file.write(f'Total comments: {total_comments}\\n\\n')\n",
    "\n",
    "            # Average comments per post statistics\n",
    "            average_comments = data.num_comments.mean()\n",
    "            file.write(f'Average comments per post: {average_comments}\\n\\n')\n",
    "\n",
    "            # Total subreddit subscribers statistics\n",
    "            total_subscribers = data.subreddit_subscribers.sum()\n",
    "            file.write(f'Total subreddit subscribers: {total_subscribers}\\n\\n')\n",
    "\n",
    "            # Average subreddit subscribers per post statistics\n",
    "            average_subscribers = data.subreddit_subscribers.mean()\n",
    "            file.write(f'Average subreddit subscribers per post: {average_subscribers}\\n\\n')\n",
    "\n",
    "            # Total crossposts statistics\n",
    "            total_crossposts = data.num_crossposts.sum()\n",
    "            file.write(f'Total crossposts: {total_crossposts}\\n\\n')\n",
    "\n",
    "            # Average crossposts per post statistics\n",
    "            average_crossposts = data.num_crossposts.mean()\n",
    "            file.write(f'Average crossposts per post: {average_crossposts}\\n\\n')\n",
    "\n"
   ]
  }
 ],
 "metadata": {
  "kernelspec": {
   "display_name": "Infoling2",
   "language": "python",
   "name": "python3"
  },
  "language_info": {
   "codemirror_mode": {
    "name": "ipython",
    "version": 3
   },
   "file_extension": ".py",
   "mimetype": "text/x-python",
   "name": "python",
   "nbconvert_exporter": "python",
   "pygments_lexer": "ipython3",
   "version": "3.9.12"
  },
  "orig_nbformat": 4,
  "vscode": {
   "interpreter": {
    "hash": "0073f31b020f51d2038c934f91d44a5a4d3b8d73a4ecabb3db0c6986d8115fb3"
   }
  }
 },
 "nbformat": 4,
 "nbformat_minor": 2
}
