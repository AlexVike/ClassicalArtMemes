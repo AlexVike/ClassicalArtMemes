{
 "cells": [
  {
   "cell_type": "code",
   "execution_count": 23,
   "metadata": {},
   "outputs": [],
   "source": [
    "import pandas as pd\n",
    "\n",
    "# read in the main csv file\n",
    "df = pd.read_csv(\"../all_csv_images/all_data_all_images_no_duplicates.csv\")\n",
    "\n",
    "# select 100 random rows from the dataframe\n",
    "test_df = df.sample(n=50)\n",
    "\n",
    "# write the selected rows to a new csv file\n",
    "test_df.to_csv('../all_csv_images/test_file.csv', index=False)\n"
   ]
  },
  {
   "cell_type": "code",
   "execution_count": 24,
   "metadata": {},
   "outputs": [
    {
     "name": "stderr",
     "output_type": "stream",
     "text": [
      "Performing OCR: 100%|██████████| 50/50 [00:25<00:00,  1.97it/s]\n"
     ]
    }
   ],
   "source": [
    "import pandas as pd\n",
    "import pytesseract\n",
    "from PIL import Image\n",
    "from tqdm import tqdm\n",
    "import logging\n",
    "from PIL import Image, ImageEnhance\n",
    "\n",
    "# Set the path to the Tesseract-OCR executable\n",
    "pytesseract.pytesseract.tesseract_cmd = (\n",
    "    r\"C:\\Program Files\\Tesseract-OCR\\tesseract.exe\"\n",
    ")\n",
    "\n",
    "# Configure logging\n",
    "logging.basicConfig(filename='ocr.log', level=logging.DEBUG)\n",
    "\n",
    "# Read in the CSV file containing the file names\n",
    "df = pd.read_csv('../all_csv_images/test_file.csv')\n",
    "\n",
    "# Add a new column to the DataFrame to store the OCR text\n",
    "df['ocr_text'] = ''\n",
    "\n",
    "with open(\"ocr_log.txt\", \"w\") as log:\n",
    "    # Iterate over each file name in the DataFrame\n",
    "    for index, row in tqdm(df.iterrows(), total=df.shape[0], desc='Performing OCR'):\n",
    "        try:\n",
    "           \n",
    "# Open the image using PIL\n",
    "            image = Image.open(row['relative_path'])\n",
    "\n",
    "# Convert the image to grayscale\n",
    "            image = image.convert(\"L\")\n",
    "            # Apply contrast stretching to the image\n",
    "            contrast = ImageEnhance.Contrast(image)\n",
    "            image = contrast.enhance(2)\n",
    "\n",
    "# Use PyTesseract to perform OCR on the image\n",
    "            ocr_text = pytesseract.image_to_string(image)\n",
    "            # Store the OCR text in the corresponding row of the new column\n",
    "            df.at[index, 'ocr_text'] = ocr_text\n",
    "        except Exception as e:\n",
    "            # Log any errors that occur during the OCR process\n",
    "            log.write(f'Error processing image {row[\"relative_path\"]}: {e}\\n')\n",
    "\n",
    "# Write the updated DataFrame to a new CSV file\n",
    "df.to_csv('../all_csv_images/ocr_PIL_enhance.csv', index=False)\n"
   ]
  },
  {
   "cell_type": "code",
   "execution_count": 25,
   "metadata": {},
   "outputs": [
    {
     "data": {
      "text/plain": [
       "\"When you're trynna get lobotomized i in\\npeace but drunk-ass Gary is ranting\\nabout his wife... like shit Gary just get a\\ndivorce if you care that much, I'm trynna\\nget my lobotomy game on and you\\nStraight souring the vibe right now\\n\""
      ]
     },
     "execution_count": 25,
     "metadata": {},
     "output_type": "execute_result"
    }
   ],
   "source": [
    "df[\"ocr_text\"][1]"
   ]
  },
  {
   "cell_type": "code",
   "execution_count": 26,
   "metadata": {},
   "outputs": [
    {
     "name": "stderr",
     "output_type": "stream",
     "text": [
      "Performing OCR: 100%|██████████| 50/50 [00:16<00:00,  3.02it/s]\n"
     ]
    }
   ],
   "source": [
    "import pandas as pd\n",
    "import pytesseract\n",
    "from PIL import Image\n",
    "from tqdm import tqdm\n",
    "import logging\n",
    "import cv2\n",
    "\n",
    "# Set the path to the Tesseract-OCR executable\n",
    "pytesseract.pytesseract.tesseract_cmd = (\n",
    "    r\"C:\\Program Files\\Tesseract-OCR\\tesseract.exe\"\n",
    ")\n",
    "\n",
    "# Configure logging\n",
    "logging.basicConfig(filename='ocr.log', level=logging.DEBUG)\n",
    "\n",
    "# Read in the CSV file containing the file names\n",
    "df = pd.read_csv('../all_csv_images/test_file.csv')\n",
    "\n",
    "# Add a new column to the DataFrame to store the OCR text\n",
    "df['ocr_text'] = ''\n",
    "\n",
    "with open(\"ocr_log.txt\", \"w\") as log:\n",
    "    # Iterate over each file name in the DataFrame\n",
    "    for index, row in tqdm(df.iterrows(), total=df.shape[0], desc='Performing OCR'):\n",
    "        try:\n",
    "            # Open the image using OpenCV\n",
    "            image = cv2.imread(row['relative_path'])\n",
    "            # preprocess the image\n",
    "            gray = cv2.cvtColor(image, cv2.COLOR_BGR2GRAY)\n",
    "            gray = cv2.medianBlur(gray, 3)\n",
    "            gray = cv2.threshold(gray, 0, 255, cv2.THRESH_BINARY + cv2.THRESH_OTSU)[1]\n",
    "            # Use PyTesseract to perform OCR on the image\n",
    "            ocr_text = pytesseract.image_to_string(gray)\n",
    "            # Store the OCR text in the corresponding row of the new column\n",
    "            df.at[index, 'ocr_text'] = ocr_text\n",
    "        except Exception as e:\n",
    "            # Log any errors that occur during the OCR process\n",
    "            log.write(f'Error processing image {row[\"relative_path\"]}: {e}\\n')\n",
    "\n",
    "# Write the updated DataFrame to a new CSV file\n",
    "df.to_csv('../all_csv_images/ocr_cv2.csv', index=False)"
   ]
  },
  {
   "cell_type": "code",
   "execution_count": 27,
   "metadata": {},
   "outputs": [
    {
     "data": {
      "text/plain": [
       "\"When you're trynna get lobotomized in\\npeace but drunk-ass Gary is ranting\\nabout his wife... like shit Gary just get a\\ndivorce if you care that much, I'm trynna\\nget my lobotomy game on and you\\nStraight souring the vibe right now\\n\\n\""
      ]
     },
     "execution_count": 27,
     "metadata": {},
     "output_type": "execute_result"
    }
   ],
   "source": [
    "df[\"ocr_text\"][1]"
   ]
  },
  {
   "cell_type": "code",
   "execution_count": 29,
   "metadata": {},
   "outputs": [
    {
     "name": "stderr",
     "output_type": "stream",
     "text": [
      "Performing OCR: 100%|██████████| 28052/28052 [6:08:50<00:00,  1.27it/s]   \n"
     ]
    }
   ],
   "source": [
    "import pandas as pd\n",
    "import io\n",
    "from google.cloud import vision\n",
    "from google.oauth2 import service_account\n",
    "from tqdm import tqdm\n",
    "import logging\n",
    "\n",
    "# Configure logging\n",
    "logging.basicConfig(filename='ocr.log', level=logging.DEBUG)\n",
    "\n",
    "# Read in the CSV file containing the file names\n",
    "df = pd.read_csv('../all_csv_images/all_data_all_images_no_duplicates.csv')\n",
    "\n",
    "# Add a new column to the DataFrame to store the OCR text\n",
    "df['ocr_text'] = ''\n",
    "# credentials = \"C:/Users/Alexa/OneDrive/Desktop/Forschungsseminar/Reddit_Memes/Code/core-gearbox-375812-faa4c37a689b.json\"\n",
    "credentials = service_account.Credentials.from_service_account_file('C:/Users/Alexa/OneDrive/Desktop/Forschungsseminar/Reddit_Memes/Code/core-gearbox-375812-faa4c37a689b.json')\n",
    "# Authenticate with the Google Cloud Vision API\n",
    "client = vision.ImageAnnotatorClient(credentials=credentials)\n",
    "\n",
    "with open(\"ocr_log.txt\", \"w\") as log:\n",
    "    # Iterate over each file name in the DataFrame\n",
    "    for index, row in tqdm(df.iterrows(), total=df.shape[0], desc='Performing OCR'):\n",
    "        try:\n",
    "            # Read image into memory\n",
    "            with io.open(row['relative_path'], 'rb') as image_file:\n",
    "                content = image_file.read()\n",
    "\n",
    "            # Perform OCR using the Google Vision API\n",
    "            image = vision.Image(content=content)\n",
    "            response = client.text_detection(image=image)\n",
    "            ocr_text = response.text_annotations\n",
    "            # Store the OCR text in the corresponding row of the new column\n",
    "            df.at[index, 'ocr_text'] = ocr_text[0].description\n",
    "        except Exception as e:\n",
    "            # Log any errors that occur during the OCR process\n",
    "            log.write(f'Error processing image {row[\"relative_path\"]}: {e}\\n')\n",
    "\n",
    "    # Write the updated DataFrame to a new CSV file\n",
    "    df.to_csv('../all_csv_images/ocr_google_vision.csv', index=False)\n"
   ]
  }
 ],
 "metadata": {
  "kernelspec": {
   "display_name": "Memes",
   "language": "python",
   "name": "python3"
  },
  "language_info": {
   "codemirror_mode": {
    "name": "ipython",
    "version": 3
   },
   "file_extension": ".py",
   "mimetype": "text/x-python",
   "name": "python",
   "nbconvert_exporter": "python",
   "pygments_lexer": "ipython3",
   "version": "3.9.15"
  },
  "orig_nbformat": 4,
  "vscode": {
   "interpreter": {
    "hash": "c69359b6ae85b7b355cd7fe651d90166f8bb81f2b92a82eabc2dd531a72e3ba8"
   }
  }
 },
 "nbformat": 4,
 "nbformat_minor": 2
}
