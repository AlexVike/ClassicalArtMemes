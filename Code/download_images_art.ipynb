{
 "cells": [
  {
   "cell_type": "code",
   "execution_count": 3,
   "metadata": {},
   "outputs": [
    {
     "data": {
      "text/plain": [
       "(4109, 72)"
      ]
     },
     "execution_count": 3,
     "metadata": {},
     "output_type": "execute_result"
    }
   ],
   "source": [
    "import pandas as pd\n",
    "df = pd.read_csv(\"../all_csv_images/WikiArt.csv\")\n",
    "df.head()\n",
    "df.shape\n",
    "\n"
   ]
  },
  {
   "cell_type": "code",
   "execution_count": 4,
   "metadata": {},
   "outputs": [],
   "source": [
    "import pandas as pd\n",
    "\n",
    "df = pd.read_csv('../all_csv_images/WikiArt.csv')\n",
    "df = df.dropna(subset=['Image URL'])\n",
    "df.to_csv('../all_csv_images/WikiArt.csv', index=False)\n"
   ]
  },
  {
   "cell_type": "code",
   "execution_count": 5,
   "metadata": {},
   "outputs": [
    {
     "data": {
      "text/plain": [
       "(4105, 72)"
      ]
     },
     "execution_count": 5,
     "metadata": {},
     "output_type": "execute_result"
    }
   ],
   "source": [
    "import pandas as pd\n",
    "df = pd.read_csv(\"../all_csv_images/WikiArt.csv\")\n",
    "df.head()\n",
    "df.shape\n"
   ]
  },
  {
   "cell_type": "code",
   "execution_count": 8,
   "metadata": {},
   "outputs": [
    {
     "name": "stderr",
     "output_type": "stream",
     "text": [
      "Downloading Images: 100%|██████████| 4105/4105 [27:07<00:00,  2.52it/s]  \n"
     ]
    }
   ],
   "source": [
    "import pandas as pd\n",
    "import requests\n",
    "import time\n",
    "from tqdm import tqdm\n",
    "\n",
    "start_time = time.time()\n",
    "\n",
    "df = pd.read_csv(\"../all_csv_images/WikiArt.csv\")\n",
    "\n",
    "save_dir = '../images_art/'\n",
    "\n",
    "to_delete = []\n",
    "\n",
    "df['file_name'] = None\n",
    "\n",
    "with open(\"log_download_images_art.txt\", \"w\") as log:\n",
    "    log.write(\"Log File\\n\\n\")\n",
    "    log.write(\"Start Time: \" + str(start_time) + \"\\n\\n\")\n",
    "\n",
    "    for index, row in tqdm(df.iterrows(), total=len(df), desc='Downloading Images'):\n",
    "        try:\n",
    "            url = row['Image URL']\n",
    "            url = url.split(\"https://use2-\")\n",
    "            url = f\"http://{url[1]}\"\n",
    "            response = requests.get(url, timeout=5)\n",
    "            if response.status_code == 404:\n",
    "                to_delete.append(index)\n",
    "                log.write(f'{url} not found\\n')\n",
    "            else:\n",
    "                file_name = row[\"ID\"] + \".\" + row[\"Image URL\"].split(\".\")[-1]\n",
    "                open(save_dir + file_name, \"wb\").write(response.content)\n",
    "                df.loc[index, 'relative_path'] = save_dir + file_name\n",
    "                df.loc[index, 'file_name'] = file_name\n",
    "                log.write(f'{file_name} downloaded\\n')\n",
    "        except Exception as e:\n",
    "            to_delete.append(index)\n",
    "            log.write(f'Error: {e} for url {url}\\n')\n",
    "    end_time = time.time()\n",
    "    log.write(\"\\nEnd Time: \" + str(end_time) + \"\\n\")\n",
    "    log.write(f'Time taken: {end_time - start_time} seconds\\n')\n",
    "    log.write(f'Images downloaded: {len(df) - len(to_delete)} \\n')\n",
    "    log.write(f'Images not found: {len(to_delete)} \\n')\n",
    "\n",
    "\n",
    "df.drop(to_delete, inplace=True)\n",
    "df.to_csv('../all_csv_images/WikiArt_images.csv', index=False)"
   ]
  },
  {
   "cell_type": "code",
   "execution_count": 11,
   "metadata": {},
   "outputs": [
    {
     "data": {
      "text/plain": [
       "(4105, 74)"
      ]
     },
     "execution_count": 11,
     "metadata": {},
     "output_type": "execute_result"
    }
   ],
   "source": [
    "df = pd.read_csv(\"../all_csv_images/WikiArt_images.csv\")\n",
    "df.shape"
   ]
  }
 ],
 "metadata": {
  "kernelspec": {
   "display_name": "Memes",
   "language": "python",
   "name": "python3"
  },
  "language_info": {
   "codemirror_mode": {
    "name": "ipython",
    "version": 3
   },
   "file_extension": ".py",
   "mimetype": "text/x-python",
   "name": "python",
   "nbconvert_exporter": "python",
   "pygments_lexer": "ipython3",
   "version": "3.9.15"
  },
  "orig_nbformat": 4,
  "vscode": {
   "interpreter": {
    "hash": "c69359b6ae85b7b355cd7fe651d90166f8bb81f2b92a82eabc2dd531a72e3ba8"
   }
  }
 },
 "nbformat": 4,
 "nbformat_minor": 2
}
