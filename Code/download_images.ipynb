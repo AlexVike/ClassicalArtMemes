{
 "cells": [
  {
   "cell_type": "code",
   "execution_count": 5,
   "metadata": {},
   "outputs": [],
   "source": [
    "import pandas as pd\n",
    "\n",
    "# read in the main csv file\n",
    "df = pd.read_csv(\"../all_raw_csv/filtered_file.csv\")\n",
    "\n",
    "# select 100 random rows from the dataframe\n",
    "test_df = df.sample(n=700)\n",
    "\n",
    "# write the selected rows to a new csv file\n",
    "test_df.to_csv('../all_raw_csv/test_file.csv', index=False)\n"
   ]
  },
  {
   "cell_type": "code",
   "execution_count": 2,
   "metadata": {},
   "outputs": [
    {
     "name": "stderr",
     "output_type": "stream",
     "text": [
      "Downloading Images: 100%|██████████| 38707/38707 [3:16:14<00:00,  3.29it/s]   \n"
     ]
    }
   ],
   "source": [
    "import pandas as pd\n",
    "import requests\n",
    "from bs4 import BeautifulSoup\n",
    "\n",
    "import time\n",
    "\n",
    "from tqdm import tqdm\n",
    "\n",
    "# start the timer\n",
    "start_time = time.time()\n",
    "\n",
    "# read in the csv file\n",
    "df = pd.read_csv(\"../all_raw_csv/filtered_file_no_images_no_duplicates.csv\")\n",
    "\n",
    "# specify a directory to save the images\n",
    "save_dir = '../images/'\n",
    "\n",
    "# create a list of indices of rows to be deleted\n",
    "to_delete = []\n",
    "\n",
    "# add a new column to the dataframe for the file name\n",
    "df['file_name'] = None\n",
    "\n",
    "# create a log file\n",
    "with open(\"log_download_images.txt\", \"w\") as log:\n",
    "    log.write(\"Log File\\n\\n\")\n",
    "    log.write(\"Start Time: \" + str(start_time) + \"\\n\\n\")\n",
    "\n",
    "    # iterate through the rows of the dataframe\n",
    "    for index, row in tqdm(df.iterrows(), total=len(df), desc='Downloading Images'):\n",
    "        try:\n",
    "            # get the url of the image\n",
    "            url = row['url']\n",
    "            response = requests.get(url, timeout=5)\n",
    "            if response.status_code == 404:\n",
    "                to_delete.append(index)\n",
    "                log.write(f'{url} not found\\n')\n",
    "            else:\n",
    "                # get the file name from the url\n",
    "                file_name = url.split(\"/\")[-1]\n",
    "                # write the image to the specified directory\n",
    "                open(save_dir + file_name, \"wb\").write(response.content)\n",
    "                # update the relative_path column\n",
    "                df.loc[index, 'relative_path'] = save_dir + file_name\n",
    "                df.loc[index, 'file_name'] = file_name\n",
    "                log.write(f'{file_name} downloaded\\n')\n",
    "        except (requests.exceptions.Timeout, requests.exceptions.ConnectionError) as e:\n",
    "            to_delete.append(index)\n",
    "            log.write(f'Error: {e} for url {url}\\n')\n",
    "    end_time = time.time()\n",
    "    log.write(\"\\nEnd Time: \" + str(end_time) + \"\\n\")\n",
    "    log.write(f'Time taken: {end_time - start_time} seconds\\n')\n",
    "    log.write(f'Images downloaded: {len(df) - len(to_delete)} \\n')\n",
    "    log.write(f'Images not found: {len(to_delete)} \\n')\n",
    "\n",
    "\n",
    "df.drop(to_delete, inplace=True)\n",
    "df.to_csv('../all_csv_images/all_data_all_images_no_duplicates.csv', index=False)"
   ]
  },
  {
   "cell_type": "code",
   "execution_count": 4,
   "metadata": {},
   "outputs": [],
   "source": [
    "df = pd.read_csv(\"../all_csv_images/all_data_all_images_no_duplicates.csv\")"
   ]
  },
  {
   "cell_type": "code",
   "execution_count": 5,
   "metadata": {},
   "outputs": [
    {
     "data": {
      "text/plain": [
       "(28109, 16)"
      ]
     },
     "execution_count": 5,
     "metadata": {},
     "output_type": "execute_result"
    }
   ],
   "source": [
    "df.shape"
   ]
  }
 ],
 "metadata": {
  "kernelspec": {
   "display_name": "Infoling2",
   "language": "python",
   "name": "python3"
  },
  "language_info": {
   "codemirror_mode": {
    "name": "ipython",
    "version": 3
   },
   "file_extension": ".py",
   "mimetype": "text/x-python",
   "name": "python",
   "nbconvert_exporter": "python",
   "pygments_lexer": "ipython3",
   "version": "3.9.12 (main, Apr  4 2022, 05:22:27) [MSC v.1916 64 bit (AMD64)]"
  },
  "orig_nbformat": 4,
  "vscode": {
   "interpreter": {
    "hash": "0073f31b020f51d2038c934f91d44a5a4d3b8d73a4ecabb3db0c6986d8115fb3"
   }
  }
 },
 "nbformat": 4,
 "nbformat_minor": 2
}
