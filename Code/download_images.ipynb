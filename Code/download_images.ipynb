{
 "cells": [
  {
   "attachments": {},
   "cell_type": "markdown",
   "metadata": {},
   "source": [
    "Testdatensatz um den Download von Bildern zu testen."
   ]
  },
  {
   "cell_type": "code",
   "execution_count": 5,
   "metadata": {},
   "outputs": [],
   "source": [
    "import pandas as pd\n",
    "\n",
    "\n",
    "df = pd.read_csv(\"../all_raw_csv/filtered_file.csv\")\n",
    "\n",
    "\n",
    "test_df = df.sample(n=700)\n",
    "\n",
    "\n",
    "test_df.to_csv('../all_raw_csv/test_file.csv', index=False)\n"
   ]
  },
  {
   "attachments": {},
   "cell_type": "markdown",
   "metadata": {},
   "source": [
    "Die Bilder werden mithilfe der url heruntergeladen. Es wird eine CSV Datei erstellt die den Namen des Bildes und den relativen Pfad enthält. Die Bilder werden in einem Ordner \"images\" gespeichert."
   ]
  },
  {
   "attachments": {},
   "cell_type": "markdown",
   "metadata": {},
   "source": [
    "Es wird eine log Datei erstellt, die alle Bilder enthält, die nicht heruntergeladen werden konnten."
   ]
  },
  {
   "cell_type": "code",
   "execution_count": 2,
   "metadata": {},
   "outputs": [
    {
     "name": "stderr",
     "output_type": "stream",
     "text": [
      "Downloading Images: 100%|██████████| 38707/38707 [3:16:14<00:00,  3.29it/s]   \n"
     ]
    }
   ],
   "source": [
    "import pandas as pd\n",
    "import requests\n",
    "import time\n",
    "from tqdm import tqdm\n",
    "\n",
    "start_time = time.time()\n",
    "\n",
    "df = pd.read_csv(\"../all_raw_csv/filtered_file_no_images_no_duplicates.csv\")\n",
    "save_dir = '../images/'\n",
    "to_delete = []\n",
    "df['file_name'] = None\n",
    "\n",
    "\n",
    "with open(\"log_download_images.txt\", \"w\") as log:\n",
    "    log.write(\"Log File\\n\\n\")\n",
    "    log.write(\"Start Time: \" + str(start_time) + \"\\n\\n\")\n",
    "    for index, row in tqdm(df.iterrows(), total=len(df), desc='Downloading Images'):\n",
    "        try:\n",
    "            url = row['url']\n",
    "            response = requests.get(url, timeout=5)\n",
    "            if response.status_code == 404:\n",
    "                to_delete.append(index)\n",
    "                log.write(f'{url} not found\\n')\n",
    "            else:\n",
    "                file_name = url.split(\"/\")[-1]\n",
    "                open(save_dir + file_name, \"wb\").write(response.content)\n",
    "                df.loc[index, 'relative_path'] = save_dir + file_name\n",
    "                df.loc[index, 'file_name'] = file_name\n",
    "                log.write(f'{file_name} downloaded\\n')\n",
    "        except (requests.exceptions.Timeout, requests.exceptions.ConnectionError) as e:\n",
    "            to_delete.append(index)\n",
    "            log.write(f'Error: {e} for url {url}\\n')\n",
    "    end_time = time.time()\n",
    "    log.write(\"\\nEnd Time: \" + str(end_time) + \"\\n\")\n",
    "    log.write(f'Time taken: {end_time - start_time} seconds\\n')\n",
    "    log.write(f'Images downloaded: {len(df) - len(to_delete)} \\n')\n",
    "    log.write(f'Images not found: {len(to_delete)} \\n')\n",
    "\n",
    "\n",
    "df.drop(to_delete, inplace=True)\n",
    "df.to_csv('../all_csv_images/all_data_all_images_no_duplicates.csv', index=False)"
   ]
  },
  {
   "attachments": {},
   "cell_type": "markdown",
   "metadata": {},
   "source": [
    "Die neue CSV Datei wird bei \"all_csv_images\" gespeichert als \"all_data_all_images_no_duplicates.csv\" gespeichert."
   ]
  },
  {
   "cell_type": "code",
   "execution_count": 4,
   "metadata": {},
   "outputs": [],
   "source": [
    "df = pd.read_csv(\"../all_csv_images/all_data_all_images_no_duplicates.csv\")"
   ]
  },
  {
   "attachments": {},
   "cell_type": "markdown",
   "metadata": {},
   "source": [
    "Da manche Bilder nicht mehr existieren besitzt der Datensatz nun 28109 Einträge."
   ]
  },
  {
   "cell_type": "code",
   "execution_count": 5,
   "metadata": {},
   "outputs": [
    {
     "data": {
      "text/plain": [
       "(28109, 16)"
      ]
     },
     "execution_count": 5,
     "metadata": {},
     "output_type": "execute_result"
    }
   ],
   "source": [
    "df.shape"
   ]
  }
 ],
 "metadata": {
  "kernelspec": {
   "display_name": "Infoling2",
   "language": "python",
   "name": "python3"
  },
  "language_info": {
   "codemirror_mode": {
    "name": "ipython",
    "version": 3
   },
   "file_extension": ".py",
   "mimetype": "text/x-python",
   "name": "python",
   "nbconvert_exporter": "python",
   "pygments_lexer": "ipython3",
   "version": "3.9.12"
  },
  "orig_nbformat": 4,
  "vscode": {
   "interpreter": {
    "hash": "0073f31b020f51d2038c934f91d44a5a4d3b8d73a4ecabb3db0c6986d8115fb3"
   }
  }
 },
 "nbformat": 4,
 "nbformat_minor": 2
}
