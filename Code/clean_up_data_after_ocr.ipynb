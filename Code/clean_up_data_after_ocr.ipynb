{
 "cells": [
  {
   "attachments": {},
   "cell_type": "markdown",
   "metadata": {},
   "source": [
    "Einige Bilder haben allen Kriterien beim download entsprochen, obwohl sie als \"nicht verfügbar\" gekennzeichnet waren. Diese Bilder werden nun gelöscht."
   ]
  },
  {
   "cell_type": "code",
   "execution_count": null,
   "metadata": {},
   "outputs": [],
   "source": [
    "import pandas as pd\n",
    "import os\n",
    "\n",
    "df = pd.read_csv(\"../all_csv_images/ocr_google_vision.csv\")\n",
    "\n",
    "df = df[df[\"ocr_text\"] != \"The image\\nyou are\\nrequesting does not exist\\nor is no longer available.\\nimgur.com\"]\n",
    "\n",
    "\n",
    "df_deleted = pd.read_csv(\"../all_csv_images/ocr_google_vision.csv\")\n",
    "df_deleted = df_deleted[df_deleted[\"ocr_text\"] == \"The image\\nyou are\\nrequesting does not exist\\nor is no longer available.\\nimgur.com\"]\n",
    "\n",
    "for index, row in df_deleted.iterrows():\n",
    "    os.remove(row[\"relative_path\"])\n",
    "\n",
    "\n",
    "df.to_csv(\"../all_csv_images/filtered_file_ocr.csv\",index=False)\n"
   ]
  },
  {
   "attachments": {},
   "cell_type": "markdown",
   "metadata": {},
   "source": [
    "Es gibt einige Memes die keinen Text enthalten. Jedoch wurden diese untersucht und es stellte sich heraus, dass der Reddit Titel des Postes als Text verwendet wurde. Aus diesem Grund wurden die leeren OCR-Texte mit dem Titel des Postes ersetzt."
   ]
  },
  {
   "cell_type": "code",
   "execution_count": 3,
   "metadata": {},
   "outputs": [
    {
     "name": "stdout",
     "output_type": "stream",
     "text": [
      "Number of empty ocr_text: 1086\n"
     ]
    }
   ],
   "source": [
    "empty_ocr_text_count = df['ocr_text'].isnull().sum()\n",
    "print(f'Number of empty ocr_text: {empty_ocr_text_count}')"
   ]
  },
  {
   "cell_type": "code",
   "execution_count": null,
   "metadata": {},
   "outputs": [],
   "source": [
    "df = pd.read_csv('../all_csv_images/filtered_file_ocr.csv')"
   ]
  },
  {
   "cell_type": "code",
   "execution_count": 46,
   "metadata": {},
   "outputs": [
    {
     "data": {
      "text/plain": [
       "(27293, 17)"
      ]
     },
     "execution_count": 46,
     "metadata": {},
     "output_type": "execute_result"
    }
   ],
   "source": [
    "df.shape"
   ]
  },
  {
   "cell_type": "code",
   "execution_count": 47,
   "metadata": {},
   "outputs": [],
   "source": [
    "df['ocr_text'].fillna(df['title'], inplace=True)"
   ]
  },
  {
   "attachments": {},
   "cell_type": "markdown",
   "metadata": {},
   "source": [
    "Einige Reddit Nutzer haben ihre Posts mehrfach gepostet. Dies ist ein Problem, da die Bilder dann mehrfach heruntergeladen werden. Aus diesem Grund werden alle Duplikate gelöscht."
   ]
  },
  {
   "cell_type": "code",
   "execution_count": 48,
   "metadata": {},
   "outputs": [],
   "source": [
    "duplicates = df[df.duplicated(['ocr_text'])]"
   ]
  },
  {
   "cell_type": "code",
   "execution_count": 49,
   "metadata": {},
   "outputs": [
    {
     "data": {
      "text/plain": [
       "(3918, 17)"
      ]
     },
     "execution_count": 49,
     "metadata": {},
     "output_type": "execute_result"
    }
   ],
   "source": [
    "duplicates.shape"
   ]
  },
  {
   "cell_type": "code",
   "execution_count": 50,
   "metadata": {},
   "outputs": [],
   "source": [
    "df.drop_duplicates(subset=['ocr_text'],inplace=True)"
   ]
  },
  {
   "cell_type": "code",
   "execution_count": 51,
   "metadata": {},
   "outputs": [
    {
     "data": {
      "text/plain": [
       "(23375, 17)"
      ]
     },
     "execution_count": 51,
     "metadata": {},
     "output_type": "execute_result"
    }
   ],
   "source": [
    "df.shape"
   ]
  },
  {
   "cell_type": "code",
   "execution_count": 52,
   "metadata": {},
   "outputs": [],
   "source": [
    "for index, row in duplicates.iterrows():\n",
    "    os.remove(row[\"relative_path\"])"
   ]
  },
  {
   "cell_type": "code",
   "execution_count": 53,
   "metadata": {},
   "outputs": [],
   "source": [
    "df.to_csv(\"../all_csv_images/filtered_file_ocr_no_duplicates.csv\",index=False)"
   ]
  },
  {
   "attachments": {},
   "cell_type": "markdown",
   "metadata": {},
   "source": [
    "Die verblienen Daten sind nun komplett gereinigt und können für die weitere Analyse verwendet werden."
   ]
  },
  {
   "attachments": {},
   "cell_type": "markdown",
   "metadata": {},
   "source": [
    "Wir besitzen nun einen Datensatz mit 23375 Posts"
   ]
  },
  {
   "cell_type": "code",
   "execution_count": 54,
   "metadata": {},
   "outputs": [
    {
     "data": {
      "text/plain": [
       "(23375, 17)"
      ]
     },
     "execution_count": 54,
     "metadata": {},
     "output_type": "execute_result"
    }
   ],
   "source": [
    "df = pd.read_csv('../all_csv_images/filtered_file_ocr_no_duplicates.csv')\n",
    "df.shape"
   ]
  }
 ],
 "metadata": {
  "kernelspec": {
   "display_name": "Memes",
   "language": "python",
   "name": "python3"
  },
  "language_info": {
   "codemirror_mode": {
    "name": "ipython",
    "version": 3
   },
   "file_extension": ".py",
   "mimetype": "text/x-python",
   "name": "python",
   "nbconvert_exporter": "python",
   "pygments_lexer": "ipython3",
   "version": "3.9.15"
  },
  "orig_nbformat": 4,
  "vscode": {
   "interpreter": {
    "hash": "c69359b6ae85b7b355cd7fe651d90166f8bb81f2b92a82eabc2dd531a72e3ba8"
   }
  }
 },
 "nbformat": 4,
 "nbformat_minor": 2
}
